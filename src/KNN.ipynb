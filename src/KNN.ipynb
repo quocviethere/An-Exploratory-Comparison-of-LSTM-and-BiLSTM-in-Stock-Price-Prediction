{
 "cells": [
  {
   "cell_type": "code",
   "execution_count": 1,
   "id": "cf7b3ee5",
   "metadata": {},
   "outputs": [],
   "source": [
    "import pandas as pd\n",
    "import numpy as np\n",
    "from sklearn.neighbors import KNeighborsRegressor\n",
    "from sklearn.preprocessing import StandardScaler\n",
    "from sklearn.model_selection import train_test_split\n",
    "\n",
    "# Read in the data from the CSV file\n",
    "data = pd.read_csv('AAPL.csv',index_col=0)\n",
    "\n",
    "# Split the data into input features (X) and the target variable (y)\n",
    "X = data.drop('Adj Close', axis=1)\n",
    "y = data['Adj Close']\n",
    "\n",
    "# Split the data into training and testing sets\n",
    "X_train, X_test, y_train, y_test = train_test_split(X, y, test_size=0.2)\n",
    "\n",
    "# Create the KNN model and fit it to the training data\n",
    "model = KNeighborsRegressor(n_neighbors=5)\n",
    "model.fit(X_train, y_train)\n",
    "\n",
    "# Use the model to make predictions on the test data\n",
    "y_pred = model.predict(X_test)"
   ]
  },
  {
   "cell_type": "code",
   "execution_count": 2,
   "id": "1895aa22",
   "metadata": {},
   "outputs": [
    {
     "name": "stdout",
     "output_type": "stream",
     "text": [
      "RMSE: 35.50494709843827\n",
      "MPE: -0.46952559244739034\n",
      "MAPE: 0.7507928587199735\n",
      "MSE: 1260.6012684629004\n",
      "MAE: 23.45557193756614\n",
      "R2 Score: 0.40714257012866795\n"
     ]
    }
   ],
   "source": [
    "def mae(y_true, y_pred):\n",
    "    mae = np.mean(np.abs((y_true - y_pred)))\n",
    "\n",
    "    return mae\n",
    "\n",
    "def mse(y_true, y_pred):\n",
    "    mse = np.mean((y_true - y_pred) ** 2)\n",
    "\n",
    "    return mse\n",
    "\n",
    "def rmse(y_true, y_pred):\n",
    "    rmse = np.sqrt(np.mean((y_true-y_pred)**2))\n",
    "\n",
    "    return rmse\n",
    "\n",
    "def mpe(y_true, y_pred):\n",
    "    mpe = np.mean((y_true-y_pred) / y_true)\n",
    "\n",
    "    return mpe\n",
    "def mape(y_true, y_pred):\n",
    "    mape = np.mean(np.abs((y_true-y_pred)) / y_true)\n",
    "    return mape\n",
    "\n",
    "predictions = model.predict(X_test)\n",
    "\n",
    "print(f'RMSE: {rmse(y_test, predictions)}')\n",
    "print(f'MPE: {mpe(y_test, predictions)}')\n",
    "print(f'MAPE: {mape(y_test, predictions)}')\n",
    "print(f'MSE: {mse(y_test, predictions)}')\n",
    "print(f'MAE: {mae(y_test, predictions)}')\n",
    "from sklearn.metrics import r2_score\n",
    "print(f'R2 Score: {r2_score(y_test, predictions)}')"
   ]
  },
  {
   "cell_type": "code",
   "execution_count": null,
   "id": "6866bef1",
   "metadata": {},
   "outputs": [],
   "source": []
  }
 ],
 "metadata": {
  "kernelspec": {
   "display_name": "Python 3 (ipykernel)",
   "language": "python",
   "name": "python3"
  },
  "language_info": {
   "codemirror_mode": {
    "name": "ipython",
    "version": 3
   },
   "file_extension": ".py",
   "mimetype": "text/x-python",
   "name": "python",
   "nbconvert_exporter": "python",
   "pygments_lexer": "ipython3",
   "version": "3.9.13"
  }
 },
 "nbformat": 4,
 "nbformat_minor": 5
}
