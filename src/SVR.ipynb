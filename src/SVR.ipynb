{
 "cells": [
  {
   "cell_type": "code",
   "execution_count": 22,
   "id": "afd8c8ba",
   "metadata": {},
   "outputs": [],
   "source": [
    "import pandas as pd\n",
    "import numpy as np\n",
    "from sklearn.preprocessing import StandardScaler\n",
    "from sklearn.svm import SVR\n",
    "from sklearn.model_selection import train_test_split\n",
    "import matplotlib.pyplot as plt"
   ]
  },
  {
   "cell_type": "code",
   "execution_count": 23,
   "id": "daf0d16d",
   "metadata": {},
   "outputs": [
    {
     "data": {
      "text/html": [
       "<div>\n",
       "<style scoped>\n",
       "    .dataframe tbody tr th:only-of-type {\n",
       "        vertical-align: middle;\n",
       "    }\n",
       "\n",
       "    .dataframe tbody tr th {\n",
       "        vertical-align: top;\n",
       "    }\n",
       "\n",
       "    .dataframe thead th {\n",
       "        text-align: right;\n",
       "    }\n",
       "</style>\n",
       "<table border=\"1\" class=\"dataframe\">\n",
       "  <thead>\n",
       "    <tr style=\"text-align: right;\">\n",
       "      <th></th>\n",
       "      <th>Date</th>\n",
       "      <th>Open</th>\n",
       "      <th>High</th>\n",
       "      <th>Low</th>\n",
       "      <th>Close</th>\n",
       "      <th>Adj Close</th>\n",
       "      <th>Volume</th>\n",
       "    </tr>\n",
       "  </thead>\n",
       "  <tbody>\n",
       "    <tr>\n",
       "      <th>0</th>\n",
       "      <td>2008-01-25</td>\n",
       "      <td>4.963929</td>\n",
       "      <td>4.967500</td>\n",
       "      <td>4.628929</td>\n",
       "      <td>4.643214</td>\n",
       "      <td>3.957958</td>\n",
       "      <td>1554739200</td>\n",
       "    </tr>\n",
       "    <tr>\n",
       "      <th>1</th>\n",
       "      <td>2008-01-28</td>\n",
       "      <td>4.577143</td>\n",
       "      <td>4.757143</td>\n",
       "      <td>4.516071</td>\n",
       "      <td>4.643214</td>\n",
       "      <td>3.957958</td>\n",
       "      <td>1474844000</td>\n",
       "    </tr>\n",
       "    <tr>\n",
       "      <th>2</th>\n",
       "      <td>2008-01-29</td>\n",
       "      <td>4.683929</td>\n",
       "      <td>4.742500</td>\n",
       "      <td>4.608929</td>\n",
       "      <td>4.697857</td>\n",
       "      <td>4.004538</td>\n",
       "      <td>1099982800</td>\n",
       "    </tr>\n",
       "    <tr>\n",
       "      <th>3</th>\n",
       "      <td>2008-01-30</td>\n",
       "      <td>4.691786</td>\n",
       "      <td>4.837500</td>\n",
       "      <td>4.642857</td>\n",
       "      <td>4.720714</td>\n",
       "      <td>4.024021</td>\n",
       "      <td>1243051600</td>\n",
       "    </tr>\n",
       "    <tr>\n",
       "      <th>4</th>\n",
       "      <td>2008-01-31</td>\n",
       "      <td>4.623214</td>\n",
       "      <td>4.880357</td>\n",
       "      <td>4.621429</td>\n",
       "      <td>4.834286</td>\n",
       "      <td>4.120832</td>\n",
       "      <td>1345674400</td>\n",
       "    </tr>\n",
       "    <tr>\n",
       "      <th>...</th>\n",
       "      <td>...</td>\n",
       "      <td>...</td>\n",
       "      <td>...</td>\n",
       "      <td>...</td>\n",
       "      <td>...</td>\n",
       "      <td>...</td>\n",
       "      <td>...</td>\n",
       "    </tr>\n",
       "    <tr>\n",
       "      <th>3771</th>\n",
       "      <td>2023-01-18</td>\n",
       "      <td>136.820007</td>\n",
       "      <td>138.610001</td>\n",
       "      <td>135.029999</td>\n",
       "      <td>135.210007</td>\n",
       "      <td>135.210007</td>\n",
       "      <td>69672800</td>\n",
       "    </tr>\n",
       "    <tr>\n",
       "      <th>3772</th>\n",
       "      <td>2023-01-19</td>\n",
       "      <td>134.080002</td>\n",
       "      <td>136.250000</td>\n",
       "      <td>133.770004</td>\n",
       "      <td>135.270004</td>\n",
       "      <td>135.270004</td>\n",
       "      <td>58280400</td>\n",
       "    </tr>\n",
       "    <tr>\n",
       "      <th>3773</th>\n",
       "      <td>2023-01-20</td>\n",
       "      <td>135.279999</td>\n",
       "      <td>138.020004</td>\n",
       "      <td>134.220001</td>\n",
       "      <td>137.869995</td>\n",
       "      <td>137.869995</td>\n",
       "      <td>79972200</td>\n",
       "    </tr>\n",
       "    <tr>\n",
       "      <th>3774</th>\n",
       "      <td>2023-01-23</td>\n",
       "      <td>138.119995</td>\n",
       "      <td>143.320007</td>\n",
       "      <td>137.899994</td>\n",
       "      <td>141.110001</td>\n",
       "      <td>141.110001</td>\n",
       "      <td>81760300</td>\n",
       "    </tr>\n",
       "    <tr>\n",
       "      <th>3775</th>\n",
       "      <td>2023-01-24</td>\n",
       "      <td>140.309998</td>\n",
       "      <td>143.160004</td>\n",
       "      <td>140.300003</td>\n",
       "      <td>142.529999</td>\n",
       "      <td>142.529999</td>\n",
       "      <td>66081800</td>\n",
       "    </tr>\n",
       "  </tbody>\n",
       "</table>\n",
       "<p>3776 rows × 7 columns</p>\n",
       "</div>"
      ],
      "text/plain": [
       "            Date        Open        High         Low       Close   Adj Close  \\\n",
       "0     2008-01-25    4.963929    4.967500    4.628929    4.643214    3.957958   \n",
       "1     2008-01-28    4.577143    4.757143    4.516071    4.643214    3.957958   \n",
       "2     2008-01-29    4.683929    4.742500    4.608929    4.697857    4.004538   \n",
       "3     2008-01-30    4.691786    4.837500    4.642857    4.720714    4.024021   \n",
       "4     2008-01-31    4.623214    4.880357    4.621429    4.834286    4.120832   \n",
       "...          ...         ...         ...         ...         ...         ...   \n",
       "3771  2023-01-18  136.820007  138.610001  135.029999  135.210007  135.210007   \n",
       "3772  2023-01-19  134.080002  136.250000  133.770004  135.270004  135.270004   \n",
       "3773  2023-01-20  135.279999  138.020004  134.220001  137.869995  137.869995   \n",
       "3774  2023-01-23  138.119995  143.320007  137.899994  141.110001  141.110001   \n",
       "3775  2023-01-24  140.309998  143.160004  140.300003  142.529999  142.529999   \n",
       "\n",
       "          Volume  \n",
       "0     1554739200  \n",
       "1     1474844000  \n",
       "2     1099982800  \n",
       "3     1243051600  \n",
       "4     1345674400  \n",
       "...          ...  \n",
       "3771    69672800  \n",
       "3772    58280400  \n",
       "3773    79972200  \n",
       "3774    81760300  \n",
       "3775    66081800  \n",
       "\n",
       "[3776 rows x 7 columns]"
      ]
     },
     "execution_count": 23,
     "metadata": {},
     "output_type": "execute_result"
    }
   ],
   "source": [
    "# Load the CSV file\n",
    "df = pd.read_csv('AAPL.csv')\n",
    "df"
   ]
  },
  {
   "cell_type": "code",
   "execution_count": 24,
   "id": "befad12b",
   "metadata": {},
   "outputs": [],
   "source": [
    "# Select the feature and target columns\n",
    "X = df[['Open', 'High', 'Low', 'Volume']]\n",
    "y = df['Adj Close']"
   ]
  },
  {
   "cell_type": "code",
   "execution_count": 25,
   "id": "46230a94",
   "metadata": {},
   "outputs": [],
   "source": [
    "# Scale the data\n",
    "from sklearn.preprocessing import StandardScaler\n",
    "\n",
    "# create scaler\n",
    "scaler = StandardScaler()\n",
    "# fit and transform in one step\n",
    "X = scaler.fit_transform(X)\n",
    "y = scaler.fit_transform(y.values.reshape(-1, 1))"
   ]
  },
  {
   "cell_type": "code",
   "execution_count": 26,
   "id": "64f48499",
   "metadata": {},
   "outputs": [],
   "source": [
    "X_train, X_test, y_train, y_test = train_test_split(X, y, test_size=0.2)"
   ]
  },
  {
   "cell_type": "code",
   "execution_count": 27,
   "id": "8bb59211",
   "metadata": {},
   "outputs": [
    {
     "data": {
      "text/plain": [
       "(3020,)"
      ]
     },
     "execution_count": 27,
     "metadata": {},
     "output_type": "execute_result"
    }
   ],
   "source": [
    "y_train = y_train.reshape(X_train.shape[0])\n",
    "y_train.shape"
   ]
  },
  {
   "cell_type": "code",
   "execution_count": 28,
   "id": "9ccc27ed",
   "metadata": {},
   "outputs": [
    {
     "data": {
      "text/plain": [
       "(3020, 4)"
      ]
     },
     "execution_count": 28,
     "metadata": {},
     "output_type": "execute_result"
    }
   ],
   "source": [
    "X_train.shape"
   ]
  },
  {
   "cell_type": "code",
   "execution_count": 29,
   "id": "24e12abb",
   "metadata": {},
   "outputs": [
    {
     "data": {
      "text/plain": [
       "SVR()"
      ]
     },
     "execution_count": 29,
     "metadata": {},
     "output_type": "execute_result"
    }
   ],
   "source": [
    "# Train the SVM model\n",
    "model = SVR(kernel='rbf')\n",
    "model.fit(X_train, y_train)"
   ]
  },
  {
   "cell_type": "code",
   "execution_count": 30,
   "id": "5bc29d97",
   "metadata": {},
   "outputs": [],
   "source": [
    "def mae(y_true, y_pred):\n",
    "    mae = np.mean(np.abs((y_true - y_pred)))\n",
    "\n",
    "    return mae\n",
    "\n",
    "def mse(y_true, y_pred):\n",
    "    mse = np.mean((y_true - y_pred) ** 2)\n",
    "\n",
    "    return mse\n",
    "\n",
    "def rmse(y_true, y_pred):\n",
    "    rmse = np.sqrt(np.mean((y_true-y_pred)**2))\n",
    "\n",
    "    return rmse\n",
    "\n",
    "def mpe(y_true, y_pred):\n",
    "    mpe = np.mean((y_true-y_pred) / y_true)\n",
    "\n",
    "    return mpe\n",
    "def mape(y_true, y_pred):\n",
    "    mape = np.mean(np.abs((y_true-y_pred)) / y_true)\n",
    "\n",
    "    return mape"
   ]
  },
  {
   "cell_type": "code",
   "execution_count": 31,
   "id": "e357e566",
   "metadata": {},
   "outputs": [
    {
     "name": "stdout",
     "output_type": "stream",
     "text": [
      "RMSE: 1.4626334621204014\n",
      "MPE: 1.023247746517641\n",
      "MAPE: -0.29291262434478255\n",
      "MSE: 2.1392966445143116\n",
      "MAE: 1.0311447373132103\n",
      "R2 Score: 0.9983761493653425\n"
     ]
    }
   ],
   "source": [
    "predictions = model.predict(X_test)\n",
    "\n",
    "print(f'RMSE: {rmse(y_test, predictions)}')\n",
    "print(f'MPE: {mpe(y_test, predictions)}')\n",
    "print(f'MAPE: {mape(y_test, predictions)}')\n",
    "print(f'MSE: {mse(y_test, predictions)}')\n",
    "print(f'MAE: {mae(y_test, predictions)}')\n",
    "from sklearn.metrics import r2_score\n",
    "print(f'R2 Score: {r2_score(y_test, predictions)}')"
   ]
  }
 ],
 "metadata": {
  "kernelspec": {
   "display_name": "Python 3 (ipykernel)",
   "language": "python",
   "name": "python3"
  },
  "language_info": {
   "codemirror_mode": {
    "name": "ipython",
    "version": 3
   },
   "file_extension": ".py",
   "mimetype": "text/x-python",
   "name": "python",
   "nbconvert_exporter": "python",
   "pygments_lexer": "ipython3",
   "version": "3.9.13"
  }
 },
 "nbformat": 4,
 "nbformat_minor": 5
}
